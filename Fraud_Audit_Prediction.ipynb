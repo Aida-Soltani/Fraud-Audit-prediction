{
 "cells": [
  {
   "cell_type": "markdown",
   "id": "6fd3e57f",
   "metadata": {},
   "source": [
    "## FRAUD AUDIT PREDICTION"
   ]
  },
  {
   "cell_type": "markdown",
   "id": "79504af0",
   "metadata": {},
   "source": [
    "**Requirements**\n",
    "- data: 'audit_risk_data.csv'\n",
    "- Libraries: pandas, numpy, sklearn, lightgbm, optuna\n",
    "- Visaualization libraries : matplotlib.pyplot, seaborn"
   ]
  },
  {
   "cell_type": "code",
   "execution_count": 195,
   "id": "89052256",
   "metadata": {},
   "outputs": [],
   "source": [
    "# importing libraries in python\n",
    "\n",
    "import pandas as pd\n",
    "import numpy as np\n",
    "from numpy import mean\n",
    "from numpy import std\n",
    "import matplotlib.pyplot as plt\n",
    "import seaborn as sns\n",
    "from sklearn import preprocessing\n",
    "from sklearn.preprocessing import LabelEncoder\n",
    "from sklearn.preprocessing import StandardScaler\n",
    "from sklearn import model_selection\n",
    "from sklearn.model_selection import train_test_split,KFold\n",
    "from sklearn.linear_model import LogisticRegression\n",
    "from sklearn.metrics import accuracy_score,roc_curve\n",
    "from sklearn.metrics import classification_report, confusion_matrix\n",
    "from sklearn.model_selection import cross_val_score\n",
    "from sklearn.metrics import f1_score, precision_score, recall_score, roc_auc_score\n",
    "from sklearn.ensemble import RandomForestClassifier, GradientBoostingClassifier,AdaBoostClassifier\n",
    "from sklearn.tree import DecisionTreeClassifier\n",
    "from sklearn.neighbors import KNeighborsClassifier\n",
    "from sklearn.svm import SVC \n",
    "import lightgbm as lgb\n",
    "from sklearn import metrics\n",
    "import optuna #hyperparameter tuning\n",
    "\n",
    "pd.set_option('max_columns', None)\n",
    "import warnings\n",
    "warnings.filterwarnings(action='ignore')"
   ]
  },
  {
   "cell_type": "markdown",
   "id": "3cfae8f1",
   "metadata": {},
   "source": [
    "## DATA ANALYSIS"
   ]
  },
  {
   "cell_type": "code",
   "execution_count": 196,
   "id": "cb8559c5",
   "metadata": {},
   "outputs": [],
   "source": [
    "# Loading the dataset\n",
    "df = pd.read_csv('audit_risk_data.csv')"
   ]
  },
  {
   "cell_type": "code",
   "execution_count": 198,
   "id": "c9a8abd9",
   "metadata": {},
   "outputs": [
    {
     "data": {
      "text/html": [
       "<div>\n",
       "<style scoped>\n",
       "    .dataframe tbody tr th:only-of-type {\n",
       "        vertical-align: middle;\n",
       "    }\n",
       "\n",
       "    .dataframe tbody tr th {\n",
       "        vertical-align: top;\n",
       "    }\n",
       "\n",
       "    .dataframe thead th {\n",
       "        text-align: right;\n",
       "    }\n",
       "</style>\n",
       "<table border=\"1\" class=\"dataframe\">\n",
       "  <thead>\n",
       "    <tr style=\"text-align: right;\">\n",
       "      <th></th>\n",
       "      <th>Sector_score</th>\n",
       "      <th>LOCATION_ID</th>\n",
       "      <th>PARA_A</th>\n",
       "      <th>PARA_B</th>\n",
       "      <th>numbers</th>\n",
       "      <th>Money_Value</th>\n",
       "      <th>District_Loss</th>\n",
       "      <th>History</th>\n",
       "      <th>Score</th>\n",
       "      <th>Risk</th>\n",
       "    </tr>\n",
       "  </thead>\n",
       "  <tbody>\n",
       "    <tr>\n",
       "      <th>0</th>\n",
       "      <td>3.89</td>\n",
       "      <td>23</td>\n",
       "      <td>4.18</td>\n",
       "      <td>2.50</td>\n",
       "      <td>5.0</td>\n",
       "      <td>3.38</td>\n",
       "      <td>2</td>\n",
       "      <td>0</td>\n",
       "      <td>2.4</td>\n",
       "      <td>1</td>\n",
       "    </tr>\n",
       "    <tr>\n",
       "      <th>1</th>\n",
       "      <td>3.89</td>\n",
       "      <td>6</td>\n",
       "      <td>0.00</td>\n",
       "      <td>4.83</td>\n",
       "      <td>5.0</td>\n",
       "      <td>0.94</td>\n",
       "      <td>2</td>\n",
       "      <td>0</td>\n",
       "      <td>2.0</td>\n",
       "      <td>0</td>\n",
       "    </tr>\n",
       "    <tr>\n",
       "      <th>2</th>\n",
       "      <td>3.89</td>\n",
       "      <td>6</td>\n",
       "      <td>0.51</td>\n",
       "      <td>0.23</td>\n",
       "      <td>5.0</td>\n",
       "      <td>0.00</td>\n",
       "      <td>2</td>\n",
       "      <td>0</td>\n",
       "      <td>2.0</td>\n",
       "      <td>0</td>\n",
       "    </tr>\n",
       "    <tr>\n",
       "      <th>3</th>\n",
       "      <td>3.89</td>\n",
       "      <td>6</td>\n",
       "      <td>0.00</td>\n",
       "      <td>10.80</td>\n",
       "      <td>6.0</td>\n",
       "      <td>11.75</td>\n",
       "      <td>2</td>\n",
       "      <td>0</td>\n",
       "      <td>4.4</td>\n",
       "      <td>1</td>\n",
       "    </tr>\n",
       "    <tr>\n",
       "      <th>4</th>\n",
       "      <td>3.89</td>\n",
       "      <td>6</td>\n",
       "      <td>0.00</td>\n",
       "      <td>0.08</td>\n",
       "      <td>5.0</td>\n",
       "      <td>0.00</td>\n",
       "      <td>2</td>\n",
       "      <td>0</td>\n",
       "      <td>2.0</td>\n",
       "      <td>0</td>\n",
       "    </tr>\n",
       "  </tbody>\n",
       "</table>\n",
       "</div>"
      ],
      "text/plain": [
       "   Sector_score LOCATION_ID  PARA_A  PARA_B  numbers  Money_Value  \\\n",
       "0          3.89          23    4.18    2.50      5.0         3.38   \n",
       "1          3.89           6    0.00    4.83      5.0         0.94   \n",
       "2          3.89           6    0.51    0.23      5.0         0.00   \n",
       "3          3.89           6    0.00   10.80      6.0        11.75   \n",
       "4          3.89           6    0.00    0.08      5.0         0.00   \n",
       "\n",
       "   District_Loss  History  Score  Risk  \n",
       "0              2        0    2.4     1  \n",
       "1              2        0    2.0     0  \n",
       "2              2        0    2.0     0  \n",
       "3              2        0    4.4     1  \n",
       "4              2        0    2.0     0  "
      ]
     },
     "execution_count": 198,
     "metadata": {},
     "output_type": "execute_result"
    }
   ],
   "source": [
    "# Printing first 5 rows of the data\n",
    "df.head()"
   ]
  },
  {
   "cell_type": "code",
   "execution_count": 199,
   "id": "070794e3",
   "metadata": {},
   "outputs": [
    {
     "data": {
      "text/plain": [
       "(776, 10)"
      ]
     },
     "execution_count": 199,
     "metadata": {},
     "output_type": "execute_result"
    }
   ],
   "source": [
    "# Number of records(rows) and columns\n",
    "df.shape"
   ]
  },
  {
   "cell_type": "code",
   "execution_count": 200,
   "id": "421f7213",
   "metadata": {},
   "outputs": [
    {
     "name": "stdout",
     "output_type": "stream",
     "text": [
      "<class 'pandas.core.frame.DataFrame'>\n",
      "RangeIndex: 776 entries, 0 to 775\n",
      "Data columns (total 10 columns):\n",
      " #   Column         Non-Null Count  Dtype  \n",
      "---  ------         --------------  -----  \n",
      " 0   Sector_score   776 non-null    float64\n",
      " 1   LOCATION_ID    776 non-null    object \n",
      " 2   PARA_A         776 non-null    float64\n",
      " 3   PARA_B         776 non-null    float64\n",
      " 4   numbers        776 non-null    float64\n",
      " 5   Money_Value    775 non-null    float64\n",
      " 6   District_Loss  776 non-null    int64  \n",
      " 7   History        776 non-null    int64  \n",
      " 8   Score          776 non-null    float64\n",
      " 9   Risk           776 non-null    int64  \n",
      "dtypes: float64(6), int64(3), object(1)\n",
      "memory usage: 60.8+ KB\n"
     ]
    }
   ],
   "source": [
    "# Getting the informations about the data\n",
    "df.info()"
   ]
  },
  {
   "cell_type": "code",
   "execution_count": 201,
   "id": "d7839b51",
   "metadata": {},
   "outputs": [
    {
     "data": {
      "text/plain": [
       "<AxesSubplot:xlabel='Risk', ylabel='count'>"
      ]
     },
     "execution_count": 201,
     "metadata": {},
     "output_type": "execute_result"
    },
    {
     "data": {
      "image/png": "[encoded data removed]",
      "text/plain": [
       "<Figure size 432x288 with 1 Axes>"
      ]
     },
     "metadata": {
      "needs_background": "light"
     },
     "output_type": "display_data"
    }
   ],
   "source": [
    "# check if the data os balanced or imbalanced\n",
    "sns.countplot(df['Risk'], label = \"Count\")"
   ]
  },
  {
   "cell_type": "code",
   "execution_count": 202,
   "id": "388e59d0",
   "metadata": {},
   "outputs": [
    {
     "name": "stdout",
     "output_type": "stream",
     "text": [
      "39.35% of the dataset is considered Risk = 1\n",
      "60.65% of the dataset is considered Risk = 0\n"
     ]
    }
   ],
   "source": [
    "# check if the data os balanced or imbalanced\n",
    "df_risk1 = df[df['Risk']==1].value_counts().sum()\n",
    "df_risk0 = df[df['Risk']==0].value_counts().sum()\n",
    "perc_risk1 = df_risk1/(df_risk1+df_risk0)\n",
    "perc_risk0 = df_risk0/(df_risk1+df_risk0)\n",
    "print('{:.2f}%'.format(perc_risk1*100), 'of the dataset is considered Risk = 1' )\n",
    "print('{:.2f}%'.format(perc_risk0*100), 'of the dataset is considered Risk = 0' )"
   ]
  },
  {
   "cell_type": "markdown",
   "id": "e67ea74d",
   "metadata": {},
   "source": [
    "**** Understanding dataset:\n",
    "1. Our dataset has 10 columns which includes 9 features and one label/target ('Risk')\n",
    "2. Number of Instances/rows/records : 776\n",
    "3. As we can see almost 40% of the data is considered Risk = 1 and 60% is considered Risk = 0. We can say that our classes are highly imbalanced."
   ]
  },
  {
   "cell_type": "code",
   "execution_count": 203,
   "id": "ed845595",
   "metadata": {},
   "outputs": [
    {
     "data": {
      "image/png": "[encoded data removed]",
      "text/plain": [
       "<Figure size 360x360 with 2 Axes>"
      ]
     },
     "metadata": {
      "needs_background": "light"
     },
     "output_type": "display_data"
    }
   ],
   "source": [
    "# Get correlations of each features in dataset\n",
    "corrmat = df.corr()\n",
    "top_corr_features = corrmat.index\n",
    "plt.figure(figsize=(5,5))\n",
    "#plot heat map\n",
    "g=sns.heatmap(df[top_corr_features].corr(),annot=True,cmap=\"rocket_r\")"
   ]
  },
  {
   "cell_type": "markdown",
   "id": "de0f1581",
   "metadata": {},
   "source": [
    "*** Correlation between the features\n",
    "\n",
    "- 'PARA_A' and 'Money_Value' features are 45% correlated/dependent to each other\n",
    "- 'Score' and 'Risk' features are 79% correlated. As we know 'Score' feature determines whether to label a company as \"fraud\"      or \"not fraud.\", that is why 'Risk' feature and 'Score' are almost 80% correlated.\n",
    "- 'numbers' and 'score' features are correlated 50%\n",
    "- 'History' feature and 'District_Loss' are 69% correlated, which make sense. Because 'History' features  shows the average       historical loss suffered by firm in the last 10 years and 'Disrtrict_Loss' presents historical risk score of a district in     the last 10 years. That is why they are highly correlated."
   ]
  },
  {
   "cell_type": "markdown",
   "id": "e85054e1",
   "metadata": {},
   "source": [
    "## DATA PREPROCESSING"
   ]
  },
  {
   "cell_type": "code",
   "execution_count": 204,
   "id": "7161ac34",
   "metadata": {},
   "outputs": [
    {
     "data": {
      "text/plain": [
       "Sector_score     0\n",
       "LOCATION_ID      0\n",
       "PARA_A           0\n",
       "PARA_B           0\n",
       "numbers          0\n",
       "Money_Value      1\n",
       "District_Loss    0\n",
       "History          0\n",
       "Score            0\n",
       "Risk             0\n",
       "dtype: int64"
      ]
     },
     "execution_count": 204,
     "metadata": {},
     "output_type": "execute_result"
    }
   ],
   "source": [
    "# Check if there is any NAN_value in the data\n",
    "df.isnull().sum()"
   ]
  },
  {
   "cell_type": "markdown",
   "id": "4ef21e18",
   "metadata": {},
   "source": [
    "- As we can see we have only one nan_value which is in the column 'Money_Value'.\n",
    "- There are several ways to fill the missing value, we talk about few of them:\n",
    "1. Deleting the columns with missing data : which is not a good idea because 'Money_Value' is one of the important features that help us to have a better prediction.\n",
    "2. Deleting the rows with missing data : Due to the fact that we don't have many records I prefer to keep the row.\n",
    "3. Filling the missing data with a value – Imputation : I've choosed to fill the missing value with mean value of the 'Money_Value' column.\n"
   ]
  },
  {
   "cell_type": "code",
   "execution_count": 205,
   "id": "fa202029",
   "metadata": {},
   "outputs": [],
   "source": [
    " # Filling the missing values in Money_Value column with mean value\n",
    "df['Money_Value'].fillna((df['Money_Value'].mean()), inplace=True)"
   ]
  },
  {
   "cell_type": "code",
   "execution_count": 206,
   "id": "307368b5",
   "metadata": {},
   "outputs": [
    {
     "data": {
      "text/plain": [
       "0"
      ]
     },
     "execution_count": 206,
     "metadata": {},
     "output_type": "execute_result"
    }
   ],
   "source": [
    "# check if we ahve no more nissing value\n",
    "df.isnull().sum().sum()"
   ]
  },
  {
   "cell_type": "code",
   "execution_count": 207,
   "id": "11255958",
   "metadata": {},
   "outputs": [],
   "source": [
    "# Feature encoding for categorical column\n",
    "# 'LOCATION_ID' is a categorical feature which we will use LabelEncoder to encodding this feature.\n",
    "# In label encoding we replace the categorical value with a numeric value between 0 and the number of classes minus 1.\n",
    "# Advantage of the label Encoding is we don't add more features to the data.\n",
    "\n",
    "le = LabelEncoder()\n",
    "le.fit(df['LOCATION_ID'])\n",
    "le.transform(df['LOCATION_ID'])\n",
    "df['LOCATION_ID'] = le.transform(df['LOCATION_ID'])"
   ]
  },
  {
   "cell_type": "code",
   "execution_count": 208,
   "id": "a3ffc975",
   "metadata": {},
   "outputs": [
    {
     "name": "stdout",
     "output_type": "stream",
     "text": [
      "Identified outliers in Sector_score: 0\n",
      "Identified outliers in LOCATION_ID: 0\n",
      "Identified outliers in PARA_A: 7\n",
      "Identified outliers in PARA_B: 1\n",
      "Identified outliers in numbers: 22\n",
      "Identified outliers in Money_Value: 7\n",
      "Identified outliers in District_Loss: 0\n",
      "Identified outliers in History: 15\n",
      "Identified outliers in Score: 0\n",
      "Identified outliers in Risk: 0\n"
     ]
    }
   ],
   "source": [
    "# Checking for outliers in the merged dataframe \n",
    "for i in df:\n",
    "    df_mean, df_std = mean(df[i]), std(df[i])\n",
    "    cut_off = df_std * 3\n",
    "    lower, upper = df_mean - cut_off, df_mean + cut_off\n",
    "    outliers = [x for x in df[i] if x < lower or x > upper]\n",
    "    print('Identified outliers in ' + i + ': %d' % len(outliers))"
   ]
  },
  {
   "cell_type": "code",
   "execution_count": 209,
   "id": "2cf181af",
   "metadata": {},
   "outputs": [],
   "source": [
    "# Splitting the data into features(x) and label(y)\n",
    "x=df.drop('Risk',axis='columns')\n",
    "y=df['Risk']"
   ]
  },
  {
   "cell_type": "code",
   "execution_count": 210,
   "id": "99f4c725",
   "metadata": {},
   "outputs": [],
   "source": [
    "# Train-test split\n",
    "x_train,x_test, y_train, y_test = train_test_split(x,y, test_size=0.2,random_state=42)"
   ]
  },
  {
   "cell_type": "code",
   "execution_count": 211,
   "id": "b9bc20b9",
   "metadata": {},
   "outputs": [
    {
     "name": "stdout",
     "output_type": "stream",
     "text": [
      "39.52% of the y_train is considered Risk = 1\n",
      "60.48% of the y_train is considered Risk = 0\n",
      "38.46% of the y_test is considered Risk = 1\n",
      "61.54% of the y_test is considered Risk = 0\n"
     ]
    }
   ],
   "source": [
    "#After splitting the data into test and train we check if our data in balanced or not\n",
    "print('{:.2f}%'.format(sum(y_train==1)/(sum(y_train==1)+sum(y_train==0))*100), 'of the y_train is considered Risk = 1' )\n",
    "print('{:.2f}%'.format(sum(y_train==0)/(sum(y_train==1)+sum(y_train==0))*100), 'of the y_train is considered Risk = 0' )\n",
    "print('{:.2f}%'.format(sum(y_test==1)/(sum(y_test==1)+sum(y_test==0))*100), 'of the y_test is considered Risk = 1' )\n",
    "print('{:.2f}%'.format(sum(y_test==0)/(sum(y_test==1)+sum(y_test==0))*100), 'of the y_test is considered Risk = 0' )\n"
   ]
  },
  {
   "cell_type": "code",
   "execution_count": 212,
   "id": "bf8fc115",
   "metadata": {},
   "outputs": [],
   "source": [
    "# As we can see. our test dataset has the same distribution as the train set. "
   ]
  },
  {
   "cell_type": "code",
   "execution_count": 213,
   "id": "1294b193",
   "metadata": {},
   "outputs": [],
   "source": [
    "# Feature Scaling\n",
    "# The concept of scaling the data is that The dataset may combine features from different dimensions and scales,\n",
    "# which may have an impact on how a model is trained. Therefore outcomes from a model that was trained with unscaled \n",
    "# data may be biased.\n",
    "# we've used standardization (StandardScaler) for scaling our data\n",
    "\n",
    "ssc = StandardScaler()\n",
    "ssc.fit(x_train)\n",
    "x_train = pd.DataFrame(ssc.transform(x_train), columns=x_train.columns)\n",
    "x_test = pd.DataFrame(ssc.transform(x_test), columns=x_test.columns)"
   ]
  },
  {
   "cell_type": "markdown",
   "id": "920a9021",
   "metadata": {},
   "source": [
    "## MODEL TRAINING"
   ]
  },
  {
   "cell_type": "markdown",
   "id": "b888a007",
   "metadata": {},
   "source": [
    "* Since our problem is a binary classification we choose these models to train our model then  we evaluate our models and choose the best one.\n",
    "1. Logistik Regression\n",
    "2. Random Forest\n",
    "3. KNN\n",
    "4. SVM\n",
    "5. Adaboost\n",
    "6. LightGBM\n",
    "7. GradientBoosting"
   ]
  },
  {
   "cell_type": "markdown",
   "id": "d93e2c80",
   "metadata": {},
   "source": [
    "We Evaluate the models based on these performance metrics:\n",
    "\n",
    "- Accuracy: describes the number of correct predictions over all predictions\n",
    "- Precision: is a measure of how many of the positive predictions made are correct (true positives)\n",
    "- Recall: is a measure of how many of the positive cases the classifier correctly predicted, over all the positive cases in the data\n",
    "- F1_score: is a measure combining both precision and recall.\n",
    "- note: F1_score ranges from 0 to 1, where 0 is the worst possible score and 1 is a perfect score indicating that the model predicts each observation correctly\n",
    "- note: Since our data is slightly imbalanced aside accuracy we need to calculate precision, recall and F1_score"
   ]
  },
  {
   "cell_type": "markdown",
   "id": "d69c3f27",
   "metadata": {},
   "source": [
    "**1. Logistik Regression**\n",
    "- Logistic regression is a supervised classification algorithm. It is used to predict a binary outcome based on a set of independent variables"
   ]
  },
  {
   "cell_type": "code",
   "execution_count": 214,
   "id": "6511c281",
   "metadata": {},
   "outputs": [
    {
     "data": {
      "text/plain": [
       "LogisticRegression(random_state=42)"
      ]
     },
     "execution_count": 214,
     "metadata": {},
     "output_type": "execute_result"
    }
   ],
   "source": [
    "lgreg = LogisticRegression(random_state = 42)\n",
    "lgreg.fit(x_train, y_train)"
   ]
  },
  {
   "cell_type": "markdown",
   "id": "2fb2cfca",
   "metadata": {},
   "source": [
    "**Cross Validation**"
   ]
  },
  {
   "cell_type": "code",
   "execution_count": 215,
   "id": "3c41bad7",
   "metadata": {},
   "outputs": [
    {
     "name": "stdout",
     "output_type": "stream",
     "text": [
      "Mean accuracy of Logisitik Regression model with 5-fold cross validation is 0.95\n"
     ]
    }
   ],
   "source": [
    "# cross validation on training dataset to see the strength of our model\n",
    "kfold = model_selection.KFold(n_splits=5)\n",
    "scoring = 'accuracy'\n",
    "\n",
    "acc_lgreg = cross_val_score(estimator = lgreg, X = x_train, y = y_train, cv = kfold, scoring=scoring)\n",
    "print('Mean accuracy of Logisitik Regression model with 5-fold cross validation is',acc_lgreg.mean())"
   ]
  },
  {
   "cell_type": "markdown",
   "id": "965595f6",
   "metadata": {},
   "source": [
    "**Model Evaluation**"
   ]
  },
  {
   "cell_type": "code",
   "execution_count": 217,
   "id": "adb3026c",
   "metadata": {},
   "outputs": [
    {
     "data": {
      "text/html": [
       "<div>\n",
       "<style scoped>\n",
       "    .dataframe tbody tr th:only-of-type {\n",
       "        vertical-align: middle;\n",
       "    }\n",
       "\n",
       "    .dataframe tbody tr th {\n",
       "        vertical-align: top;\n",
       "    }\n",
       "\n",
       "    .dataframe thead th {\n",
       "        text-align: right;\n",
       "    }\n",
       "</style>\n",
       "<table border=\"1\" class=\"dataframe\">\n",
       "  <thead>\n",
       "    <tr style=\"text-align: right;\">\n",
       "      <th></th>\n",
       "      <th>Model</th>\n",
       "      <th>Accuracy_test</th>\n",
       "      <th>Cross Val Accuracy</th>\n",
       "      <th>Precision_test</th>\n",
       "      <th>Recall_test</th>\n",
       "      <th>F1_Score_test</th>\n",
       "      <th>AUC</th>\n",
       "    </tr>\n",
       "  </thead>\n",
       "  <tbody>\n",
       "    <tr>\n",
       "      <th>0</th>\n",
       "      <td>Logistic Regression</td>\n",
       "      <td>0.974359</td>\n",
       "      <td>0.95</td>\n",
       "      <td>0.966667</td>\n",
       "      <td>0.966667</td>\n",
       "      <td>0.966667</td>\n",
       "      <td>0.989583</td>\n",
       "    </tr>\n",
       "  </tbody>\n",
       "</table>\n",
       "</div>"
      ],
      "text/plain": [
       "                 Model  Accuracy_test  Cross Val Accuracy  Precision_test  \\\n",
       "0  Logistic Regression       0.974359                0.95        0.966667   \n",
       "\n",
       "   Recall_test  F1_Score_test       AUC  \n",
       "0     0.966667       0.966667  0.989583  "
      ]
     },
     "execution_count": 217,
     "metadata": {},
     "output_type": "execute_result"
    }
   ],
   "source": [
    "predict_test = lgreg.predict(x_test)\n",
    "predict_train = lgreg.predict(x_train)\n",
    "\n",
    "acc_test = accuracy_score(y_test, predict_test)\n",
    "acc_train = accuracy_score(y_train, predict_train)\n",
    "\n",
    "auc_lgreg = roc_auc_score(y_test, predict_test)\n",
    "\n",
    "precision_test = precision_score(y_test, predict_test)\n",
    "precision_train = precision_score(y_train, predict_train)\n",
    "\n",
    "recall_test = recall_score(y_test, predict_test)\n",
    "recall_train = recall_score(y_train, predict_train)\n",
    "\n",
    "f1_test = f1_score(y_test, predict_test)\n",
    "f1_train = f1_score(y_train, predict_train)\n",
    "\n",
    "results_test = pd.DataFrame([['Logistic Regression',acc_test, acc_lgreg.mean(),precision_test ,recall_test, f1_test, auc]],\n",
    "               columns = ['Model', 'Accuracy_test','Cross Val Accuracy', 'Precision_test', 'Recall_test', 'F1_Score_test','AUC'])\n",
    "results_test\n",
    "\n"
   ]
  },
  {
   "cell_type": "code",
   "execution_count": 218,
   "id": "e2f5c20a",
   "metadata": {},
   "outputs": [
    {
     "data": {
      "text/html": [
       "<div>\n",
       "<style scoped>\n",
       "    .dataframe tbody tr th:only-of-type {\n",
       "        vertical-align: middle;\n",
       "    }\n",
       "\n",
       "    .dataframe tbody tr th {\n",
       "        vertical-align: top;\n",
       "    }\n",
       "\n",
       "    .dataframe thead th {\n",
       "        text-align: right;\n",
       "    }\n",
       "</style>\n",
       "<table border=\"1\" class=\"dataframe\">\n",
       "  <thead>\n",
       "    <tr style=\"text-align: right;\">\n",
       "      <th></th>\n",
       "      <th>Model</th>\n",
       "      <th>Accuracy_train</th>\n",
       "      <th>Cross Val Accuracy</th>\n",
       "      <th>Precision_train</th>\n",
       "      <th>Recall_train</th>\n",
       "      <th>F1_Score_train</th>\n",
       "    </tr>\n",
       "  </thead>\n",
       "  <tbody>\n",
       "    <tr>\n",
       "      <th>0</th>\n",
       "      <td>Logistic Regression</td>\n",
       "      <td>0.956452</td>\n",
       "      <td>0.95</td>\n",
       "      <td>0.957983</td>\n",
       "      <td>0.930612</td>\n",
       "      <td>0.944099</td>\n",
       "    </tr>\n",
       "  </tbody>\n",
       "</table>\n",
       "</div>"
      ],
      "text/plain": [
       "                 Model  Accuracy_train  Cross Val Accuracy  Precision_train  \\\n",
       "0  Logistic Regression        0.956452                0.95         0.957983   \n",
       "\n",
       "   Recall_train  F1_Score_train  \n",
       "0      0.930612        0.944099  "
      ]
     },
     "execution_count": 218,
     "metadata": {},
     "output_type": "execute_result"
    }
   ],
   "source": [
    "results_train = pd.DataFrame([['Logistic Regression',acc_train, acc_lgreg.mean(),precision_train ,recall_train, f1_train]],\n",
    "               columns = ['Model', 'Accuracy_train','Cross Val Accuracy', 'Precision_train', 'Recall_train', 'F1_Score_train'])\n",
    "results_train"
   ]
  },
  {
   "cell_type": "markdown",
   "id": "6056b021",
   "metadata": {},
   "source": [
    "**2. Random Forest**\n",
    "- A Random Forest is a supervised machine learning algorithm in which the calculations of numerous decision trees are combined to produce one final result"
   ]
  },
  {
   "cell_type": "code",
   "execution_count": 219,
   "id": "16ade377",
   "metadata": {},
   "outputs": [
    {
     "data": {
      "text/plain": [
       "RandomForestClassifier(criterion='entropy', random_state=42)"
      ]
     },
     "execution_count": 219,
     "metadata": {},
     "output_type": "execute_result"
    }
   ],
   "source": [
    "rf = RandomForestClassifier(n_estimators = 100,criterion='entropy', random_state = 42)\n",
    "rf.fit(x_train, y_train)\n"
   ]
  },
  {
   "cell_type": "markdown",
   "id": "61177c4e",
   "metadata": {},
   "source": [
    "**Cross Validation**"
   ]
  },
  {
   "cell_type": "code",
   "execution_count": 220,
   "id": "c601a925",
   "metadata": {},
   "outputs": [
    {
     "name": "stdout",
     "output_type": "stream",
     "text": [
      "Mean accuracy of Random Forest model with 5-fold cross validation is 0.9758064516129032\n"
     ]
    }
   ],
   "source": [
    "acc_rf = cross_val_score(estimator = rf, X = x_train, y = y_train, cv = kfold, scoring=scoring)\n",
    "print('Mean accuracy of Random Forest model with 5-fold cross validation is',acc_rf.mean())"
   ]
  },
  {
   "cell_type": "markdown",
   "id": "9a85ba8c",
   "metadata": {},
   "source": [
    "**Model Evaluation**"
   ]
  },
  {
   "cell_type": "code",
   "execution_count": 221,
   "id": "e3acef83",
   "metadata": {},
   "outputs": [
    {
     "data": {
      "text/html": [
       "<div>\n",
       "<style scoped>\n",
       "    .dataframe tbody tr th:only-of-type {\n",
       "        vertical-align: middle;\n",
       "    }\n",
       "\n",
       "    .dataframe tbody tr th {\n",
       "        vertical-align: top;\n",
       "    }\n",
       "\n",
       "    .dataframe thead th {\n",
       "        text-align: right;\n",
       "    }\n",
       "</style>\n",
       "<table border=\"1\" class=\"dataframe\">\n",
       "  <thead>\n",
       "    <tr style=\"text-align: right;\">\n",
       "      <th></th>\n",
       "      <th>Model</th>\n",
       "      <th>Accuracy_test</th>\n",
       "      <th>Cross Val Accuracy</th>\n",
       "      <th>Precision_test</th>\n",
       "      <th>Recall_test</th>\n",
       "      <th>F1_Score_test</th>\n",
       "      <th>AUC</th>\n",
       "    </tr>\n",
       "  </thead>\n",
       "  <tbody>\n",
       "    <tr>\n",
       "      <th>0</th>\n",
       "      <td>Logistic Regression</td>\n",
       "      <td>0.974359</td>\n",
       "      <td>0.950000</td>\n",
       "      <td>0.966667</td>\n",
       "      <td>0.966667</td>\n",
       "      <td>0.966667</td>\n",
       "      <td>0.989583</td>\n",
       "    </tr>\n",
       "    <tr>\n",
       "      <th>1</th>\n",
       "      <td>Random forest</td>\n",
       "      <td>0.980769</td>\n",
       "      <td>0.975806</td>\n",
       "      <td>0.952381</td>\n",
       "      <td>1.000000</td>\n",
       "      <td>0.975610</td>\n",
       "      <td>0.984375</td>\n",
       "    </tr>\n",
       "  </tbody>\n",
       "</table>\n",
       "</div>"
      ],
      "text/plain": [
       "                 Model  Accuracy_test  Cross Val Accuracy  Precision_test  \\\n",
       "0  Logistic Regression       0.974359            0.950000        0.966667   \n",
       "1        Random forest       0.980769            0.975806        0.952381   \n",
       "\n",
       "   Recall_test  F1_Score_test       AUC  \n",
       "0     0.966667       0.966667  0.989583  \n",
       "1     1.000000       0.975610  0.984375  "
      ]
     },
     "execution_count": 221,
     "metadata": {},
     "output_type": "execute_result"
    }
   ],
   "source": [
    "predict_test_rf = rf.predict(x_test)\n",
    "predict_train_rf = rf.predict(x_train)\n",
    "\n",
    "acc_test_rf = accuracy_score(y_test, predict_test_rf)\n",
    "acc_train_rf = accuracy_score(y_train, predict_train_rf)\n",
    "\n",
    "auc_rf = roc_auc_score(y_test, predict_test_rf)\n",
    "\n",
    "precision_test_rf = precision_score(y_test, predict_test_rf)\n",
    "precision_train_rf = precision_score(y_train, predict_train_rf)\n",
    "\n",
    "recall_test_rf = recall_score(y_test, predict_test_rf)\n",
    "recall_train_rf = recall_score(y_train, predict_train_rf)\n",
    "\n",
    "f1_test_rf = f1_score(y_test, predict_test_rf)\n",
    "f1_train_rf = f1_score(y_train, predict_train_rf)\n",
    "\n",
    "model_results = pd.DataFrame([['Random forest',acc_test_rf, acc_rf.mean(),precision_test_rf ,recall_test_rf, f1_test_rf, auc_rf]],\n",
    "               columns = ['Model', 'Accuracy_test','Cross Val Accuracy', 'Precision_test', 'Recall_test', 'F1_Score_test','AUC'])\n",
    "\n",
    "results_test = results_test.append(model_results, ignore_index = True)\n",
    "results_test"
   ]
  },
  {
   "cell_type": "markdown",
   "id": "ed9a995d",
   "metadata": {},
   "source": [
    "**3. k-nearest neighbors** \n",
    "- The k-nearest neighbors (KNN) is a supervised classification machin learning method for estimating the likelihood that a data point will become a member of one group or another based on what group the data points nearest to it belong to."
   ]
  },
  {
   "cell_type": "code",
   "execution_count": 222,
   "id": "b2d11e39",
   "metadata": {},
   "outputs": [
    {
     "data": {
      "text/plain": [
       "KNeighborsClassifier()"
      ]
     },
     "execution_count": 222,
     "metadata": {},
     "output_type": "execute_result"
    }
   ],
   "source": [
    "knn = KNeighborsClassifier(n_neighbors=5)\n",
    "knn.fit(x_train, y_train)"
   ]
  },
  {
   "cell_type": "markdown",
   "id": "ed1151d3",
   "metadata": {},
   "source": [
    "**Cross Validation**"
   ]
  },
  {
   "cell_type": "code",
   "execution_count": 223,
   "id": "3d961de0",
   "metadata": {},
   "outputs": [
    {
     "name": "stdout",
     "output_type": "stream",
     "text": [
      "Mean accuracy of KNN model with 5-fold cross validation is 0.935483870967742\n"
     ]
    }
   ],
   "source": [
    "acc_knn = cross_val_score(estimator = knn, X = x_train, y = y_train, cv = kfold, scoring=scoring)\n",
    "print('Mean accuracy of KNN model with 5-fold cross validation is',acc_knn.mean())"
   ]
  },
  {
   "cell_type": "markdown",
   "id": "f63568b7",
   "metadata": {},
   "source": [
    "**Model Evaluation**"
   ]
  },
  {
   "cell_type": "code",
   "execution_count": 224,
   "id": "2796d2d5",
   "metadata": {},
   "outputs": [
    {
     "data": {
      "text/html": [
       "<div>\n",
       "<style scoped>\n",
       "    .dataframe tbody tr th:only-of-type {\n",
       "        vertical-align: middle;\n",
       "    }\n",
       "\n",
       "    .dataframe tbody tr th {\n",
       "        vertical-align: top;\n",
       "    }\n",
       "\n",
       "    .dataframe thead th {\n",
       "        text-align: right;\n",
       "    }\n",
       "</style>\n",
       "<table border=\"1\" class=\"dataframe\">\n",
       "  <thead>\n",
       "    <tr style=\"text-align: right;\">\n",
       "      <th></th>\n",
       "      <th>Model</th>\n",
       "      <th>Accuracy_test</th>\n",
       "      <th>Cross Val Accuracy</th>\n",
       "      <th>Precision_test</th>\n",
       "      <th>Recall_test</th>\n",
       "      <th>F1_Score_test</th>\n",
       "      <th>AUC</th>\n",
       "    </tr>\n",
       "  </thead>\n",
       "  <tbody>\n",
       "    <tr>\n",
       "      <th>0</th>\n",
       "      <td>Logistic Regression</td>\n",
       "      <td>0.974359</td>\n",
       "      <td>0.950000</td>\n",
       "      <td>0.966667</td>\n",
       "      <td>0.966667</td>\n",
       "      <td>0.966667</td>\n",
       "      <td>0.989583</td>\n",
       "    </tr>\n",
       "    <tr>\n",
       "      <th>1</th>\n",
       "      <td>Random forest</td>\n",
       "      <td>0.980769</td>\n",
       "      <td>0.975806</td>\n",
       "      <td>0.952381</td>\n",
       "      <td>1.000000</td>\n",
       "      <td>0.975610</td>\n",
       "      <td>0.984375</td>\n",
       "    </tr>\n",
       "    <tr>\n",
       "      <th>2</th>\n",
       "      <td>KNN</td>\n",
       "      <td>0.955128</td>\n",
       "      <td>0.935484</td>\n",
       "      <td>0.964912</td>\n",
       "      <td>0.916667</td>\n",
       "      <td>0.940171</td>\n",
       "      <td>0.947917</td>\n",
       "    </tr>\n",
       "  </tbody>\n",
       "</table>\n",
       "</div>"
      ],
      "text/plain": [
       "                 Model  Accuracy_test  Cross Val Accuracy  Precision_test  \\\n",
       "0  Logistic Regression       0.974359            0.950000        0.966667   \n",
       "1        Random forest       0.980769            0.975806        0.952381   \n",
       "2                  KNN       0.955128            0.935484        0.964912   \n",
       "\n",
       "   Recall_test  F1_Score_test       AUC  \n",
       "0     0.966667       0.966667  0.989583  \n",
       "1     1.000000       0.975610  0.984375  \n",
       "2     0.916667       0.940171  0.947917  "
      ]
     },
     "execution_count": 224,
     "metadata": {},
     "output_type": "execute_result"
    }
   ],
   "source": [
    "predict_test_knn = knn.predict(x_test)\n",
    "predict_train_knn = knn.predict(x_train)\n",
    "\n",
    "acc_test_knn = accuracy_score(y_test, predict_test_knn)\n",
    "acc_train_knn = accuracy_score(y_train, predict_train_knn)\n",
    "\n",
    "auc_knn = roc_auc_score(y_test, predict_test_knn)\n",
    "\n",
    "precision_test_knn = precision_score(y_test, predict_test_knn)\n",
    "precision_train_knn = precision_score(y_train, predict_train_knn)\n",
    "\n",
    "recall_test_knn = recall_score(y_test, predict_test_knn)\n",
    "recall_train_knn = recall_score(y_train, predict_train_knn)\n",
    "\n",
    "f1_test_knn = f1_score(y_test, predict_test_knn)\n",
    "f1_train_knn = f1_score(y_train, predict_train_knn)\n",
    "\n",
    "model_results = pd.DataFrame([['KNN',acc_test_knn, acc_knn.mean(),precision_test_knn ,recall_test_knn, f1_test_knn, auc_knn]],\n",
    "               columns = ['Model', 'Accuracy_test','Cross Val Accuracy', 'Precision_test', 'Recall_test', 'F1_Score_test','AUC'])\n",
    "\n",
    "results_test = results_test.append(model_results, ignore_index = True)\n",
    "results_test"
   ]
  },
  {
   "cell_type": "markdown",
   "id": "8c12e09d",
   "metadata": {},
   "source": [
    "**4. Support Vector Machine**\n",
    "- SVM is a supervised classification machine learning algorithm that aims to find an optimal boundary between the possible outputs."
   ]
  },
  {
   "cell_type": "code",
   "execution_count": 225,
   "id": "2f0d6adc",
   "metadata": {},
   "outputs": [
    {
     "data": {
      "text/plain": [
       "SVC(kernel='linear')"
      ]
     },
     "execution_count": 225,
     "metadata": {},
     "output_type": "execute_result"
    }
   ],
   "source": [
    "svm = SVC(kernel='linear') \n",
    "svm.fit(x_train, y_train)"
   ]
  },
  {
   "cell_type": "markdown",
   "id": "5c7f2636",
   "metadata": {},
   "source": [
    "**Cross Validation**"
   ]
  },
  {
   "cell_type": "code",
   "execution_count": 226,
   "id": "9ad864bf",
   "metadata": {},
   "outputs": [
    {
     "name": "stdout",
     "output_type": "stream",
     "text": [
      "Mean accuracy of SVM model with 5-fold cross validation is 0.9612903225806452\n"
     ]
    }
   ],
   "source": [
    "acc_svm = cross_val_score(estimator = svm, X = x_train, y = y_train, cv = kfold, scoring=scoring)\n",
    "print('Mean accuracy of SVM model with 5-fold cross validation is',acc_svm.mean())"
   ]
  },
  {
   "cell_type": "markdown",
   "id": "a4a02f45",
   "metadata": {},
   "source": [
    "**Model Evaluation**"
   ]
  },
  {
   "cell_type": "code",
   "execution_count": 227,
   "id": "0195b8db",
   "metadata": {},
   "outputs": [
    {
     "data": {
      "text/html": [
       "<div>\n",
       "<style scoped>\n",
       "    .dataframe tbody tr th:only-of-type {\n",
       "        vertical-align: middle;\n",
       "    }\n",
       "\n",
       "    .dataframe tbody tr th {\n",
       "        vertical-align: top;\n",
       "    }\n",
       "\n",
       "    .dataframe thead th {\n",
       "        text-align: right;\n",
       "    }\n",
       "</style>\n",
       "<table border=\"1\" class=\"dataframe\">\n",
       "  <thead>\n",
       "    <tr style=\"text-align: right;\">\n",
       "      <th></th>\n",
       "      <th>Model</th>\n",
       "      <th>Accuracy_test</th>\n",
       "      <th>Cross Val Accuracy</th>\n",
       "      <th>Precision_test</th>\n",
       "      <th>Recall_test</th>\n",
       "      <th>F1_Score_test</th>\n",
       "      <th>AUC</th>\n",
       "    </tr>\n",
       "  </thead>\n",
       "  <tbody>\n",
       "    <tr>\n",
       "      <th>0</th>\n",
       "      <td>Logistic Regression</td>\n",
       "      <td>0.974359</td>\n",
       "      <td>0.950000</td>\n",
       "      <td>0.966667</td>\n",
       "      <td>0.966667</td>\n",
       "      <td>0.966667</td>\n",
       "      <td>0.989583</td>\n",
       "    </tr>\n",
       "    <tr>\n",
       "      <th>1</th>\n",
       "      <td>Random forest</td>\n",
       "      <td>0.980769</td>\n",
       "      <td>0.975806</td>\n",
       "      <td>0.952381</td>\n",
       "      <td>1.000000</td>\n",
       "      <td>0.975610</td>\n",
       "      <td>0.984375</td>\n",
       "    </tr>\n",
       "    <tr>\n",
       "      <th>2</th>\n",
       "      <td>KNN</td>\n",
       "      <td>0.955128</td>\n",
       "      <td>0.935484</td>\n",
       "      <td>0.964912</td>\n",
       "      <td>0.916667</td>\n",
       "      <td>0.940171</td>\n",
       "      <td>0.947917</td>\n",
       "    </tr>\n",
       "    <tr>\n",
       "      <th>3</th>\n",
       "      <td>SVM</td>\n",
       "      <td>0.980769</td>\n",
       "      <td>0.961290</td>\n",
       "      <td>0.983051</td>\n",
       "      <td>0.966667</td>\n",
       "      <td>0.974790</td>\n",
       "      <td>0.978125</td>\n",
       "    </tr>\n",
       "  </tbody>\n",
       "</table>\n",
       "</div>"
      ],
      "text/plain": [
       "                 Model  Accuracy_test  Cross Val Accuracy  Precision_test  \\\n",
       "0  Logistic Regression       0.974359            0.950000        0.966667   \n",
       "1        Random forest       0.980769            0.975806        0.952381   \n",
       "2                  KNN       0.955128            0.935484        0.964912   \n",
       "3                  SVM       0.980769            0.961290        0.983051   \n",
       "\n",
       "   Recall_test  F1_Score_test       AUC  \n",
       "0     0.966667       0.966667  0.989583  \n",
       "1     1.000000       0.975610  0.984375  \n",
       "2     0.916667       0.940171  0.947917  \n",
       "3     0.966667       0.974790  0.978125  "
      ]
     },
     "execution_count": 227,
     "metadata": {},
     "output_type": "execute_result"
    }
   ],
   "source": [
    "predict_test_svm = svm.predict(x_test)\n",
    "predict_train_svm = svm.predict(x_train)\n",
    "\n",
    "acc_test_svm = accuracy_score(y_test, predict_test_svm)\n",
    "acc_train_svm = accuracy_score(y_train, predict_train_svm)\n",
    "\n",
    "auc_svm = roc_auc_score(y_test, predict_test_svm)\n",
    "\n",
    "precision_test_svm = precision_score(y_test, predict_test_svm)\n",
    "precision_train_svm = precision_score(y_train, predict_train_svm)\n",
    "\n",
    "recall_test_svm = recall_score(y_test, predict_test_svm)\n",
    "recall_train_svm = recall_score(y_train, predict_train_svm)\n",
    "\n",
    "f1_test_svm = f1_score(y_test, predict_test_svm)\n",
    "f1_train_svm = f1_score(y_train, predict_train_svm)\n",
    "\n",
    "model_results = pd.DataFrame([['SVM',acc_test_svm, acc_svm.mean(),precision_test_svm ,recall_test_svm, f1_test_svm, auc_svm]],\n",
    "               columns = ['Model', 'Accuracy_test','Cross Val Accuracy', 'Precision_test', 'Recall_test', 'F1_Score_test','AUC'])\n",
    "\n",
    "results_test = results_test.append(model_results, ignore_index = True)\n",
    "results_test"
   ]
  },
  {
   "cell_type": "markdown",
   "id": "18303867",
   "metadata": {},
   "source": [
    "**5. AdaBoostClassifier**\n",
    "- Adaptive Boosting is one of ensemble boosting classifier. the concept behid Adaboost is to set the weights of classifiers and training the data sample in each iteration such that it ensures the accurate predictions of unusual observations. "
   ]
  },
  {
   "cell_type": "code",
   "execution_count": 228,
   "id": "c89927fd",
   "metadata": {},
   "outputs": [
    {
     "data": {
      "text/plain": [
       "AdaBoostClassifier(n_estimators=100)"
      ]
     },
     "execution_count": 228,
     "metadata": {},
     "output_type": "execute_result"
    }
   ],
   "source": [
    "abc = AdaBoostClassifier(n_estimators = 100)\n",
    "abc.fit(x_train, y_train)"
   ]
  },
  {
   "cell_type": "markdown",
   "id": "41cb4450",
   "metadata": {},
   "source": [
    "**Cross Validation**"
   ]
  },
  {
   "cell_type": "code",
   "execution_count": 229,
   "id": "63616055",
   "metadata": {},
   "outputs": [
    {
     "name": "stdout",
     "output_type": "stream",
     "text": [
      "Mean accuracy of AdaBoostClassifier model with 5-fold cross validation is 0.9741935483870968\n"
     ]
    }
   ],
   "source": [
    "acc_abc = cross_val_score(estimator = abc, X = x_train, y = y_train, cv = kfold, scoring=scoring)\n",
    "print('Mean accuracy of AdaBoostClassifier model with 5-fold cross validation is',acc_abc.mean())"
   ]
  },
  {
   "cell_type": "markdown",
   "id": "8a8942bf",
   "metadata": {},
   "source": [
    "**Model Evaluation**"
   ]
  },
  {
   "cell_type": "code",
   "execution_count": 230,
   "id": "f4595bb3",
   "metadata": {},
   "outputs": [
    {
     "data": {
      "text/html": [
       "<div>\n",
       "<style scoped>\n",
       "    .dataframe tbody tr th:only-of-type {\n",
       "        vertical-align: middle;\n",
       "    }\n",
       "\n",
       "    .dataframe tbody tr th {\n",
       "        vertical-align: top;\n",
       "    }\n",
       "\n",
       "    .dataframe thead th {\n",
       "        text-align: right;\n",
       "    }\n",
       "</style>\n",
       "<table border=\"1\" class=\"dataframe\">\n",
       "  <thead>\n",
       "    <tr style=\"text-align: right;\">\n",
       "      <th></th>\n",
       "      <th>Model</th>\n",
       "      <th>Accuracy_test</th>\n",
       "      <th>Cross Val Accuracy</th>\n",
       "      <th>Precision_test</th>\n",
       "      <th>Recall_test</th>\n",
       "      <th>F1_Score_test</th>\n",
       "      <th>AUC</th>\n",
       "    </tr>\n",
       "  </thead>\n",
       "  <tbody>\n",
       "    <tr>\n",
       "      <th>0</th>\n",
       "      <td>Logistic Regression</td>\n",
       "      <td>0.974359</td>\n",
       "      <td>0.950000</td>\n",
       "      <td>0.966667</td>\n",
       "      <td>0.966667</td>\n",
       "      <td>0.966667</td>\n",
       "      <td>0.989583</td>\n",
       "    </tr>\n",
       "    <tr>\n",
       "      <th>1</th>\n",
       "      <td>Random forest</td>\n",
       "      <td>0.980769</td>\n",
       "      <td>0.975806</td>\n",
       "      <td>0.952381</td>\n",
       "      <td>1.000000</td>\n",
       "      <td>0.975610</td>\n",
       "      <td>0.984375</td>\n",
       "    </tr>\n",
       "    <tr>\n",
       "      <th>2</th>\n",
       "      <td>KNN</td>\n",
       "      <td>0.955128</td>\n",
       "      <td>0.935484</td>\n",
       "      <td>0.964912</td>\n",
       "      <td>0.916667</td>\n",
       "      <td>0.940171</td>\n",
       "      <td>0.947917</td>\n",
       "    </tr>\n",
       "    <tr>\n",
       "      <th>3</th>\n",
       "      <td>SVM</td>\n",
       "      <td>0.980769</td>\n",
       "      <td>0.961290</td>\n",
       "      <td>0.983051</td>\n",
       "      <td>0.966667</td>\n",
       "      <td>0.974790</td>\n",
       "      <td>0.978125</td>\n",
       "    </tr>\n",
       "    <tr>\n",
       "      <th>4</th>\n",
       "      <td>AdaBoost</td>\n",
       "      <td>0.974359</td>\n",
       "      <td>0.974194</td>\n",
       "      <td>0.937500</td>\n",
       "      <td>1.000000</td>\n",
       "      <td>0.967742</td>\n",
       "      <td>0.979167</td>\n",
       "    </tr>\n",
       "  </tbody>\n",
       "</table>\n",
       "</div>"
      ],
      "text/plain": [
       "                 Model  Accuracy_test  Cross Val Accuracy  Precision_test  \\\n",
       "0  Logistic Regression       0.974359            0.950000        0.966667   \n",
       "1        Random forest       0.980769            0.975806        0.952381   \n",
       "2                  KNN       0.955128            0.935484        0.964912   \n",
       "3                  SVM       0.980769            0.961290        0.983051   \n",
       "4             AdaBoost       0.974359            0.974194        0.937500   \n",
       "\n",
       "   Recall_test  F1_Score_test       AUC  \n",
       "0     0.966667       0.966667  0.989583  \n",
       "1     1.000000       0.975610  0.984375  \n",
       "2     0.916667       0.940171  0.947917  \n",
       "3     0.966667       0.974790  0.978125  \n",
       "4     1.000000       0.967742  0.979167  "
      ]
     },
     "execution_count": 230,
     "metadata": {},
     "output_type": "execute_result"
    }
   ],
   "source": [
    "predict_test_abc = abc.predict(x_test)\n",
    "predict_train_abc = abc.predict(x_train)\n",
    "\n",
    "acc_test_abc = accuracy_score(y_test, predict_test_abc)\n",
    "acc_train_abc = accuracy_score(y_train, predict_train_abc)\n",
    "\n",
    "auc_abc = roc_auc_score(y_test, predict_test_abc)\n",
    "\n",
    "precision_test_abc = precision_score(y_test, predict_test_abc)\n",
    "precision_train_abc = precision_score(y_train, predict_train_abc)\n",
    "\n",
    "recall_test_abc = recall_score(y_test, predict_test_abc)\n",
    "recall_train_abc = recall_score(y_train, predict_train_abc)\n",
    "\n",
    "f1_test_abc = f1_score(y_test, predict_test_abc)\n",
    "f1_train_abc = f1_score(y_train, predict_train_abc)\n",
    "\n",
    "model_results = pd.DataFrame([['AdaBoost',acc_test_abc, acc_abc.mean(),precision_test_abc ,recall_test_abc, f1_test_abc, auc_abc]],\n",
    "               columns = ['Model', 'Accuracy_test','Cross Val Accuracy', 'Precision_test', 'Recall_test', 'F1_Score_test','AUC'])\n",
    "\n",
    "results_test = results_test.append(model_results, ignore_index = True)\n",
    "results_test"
   ]
  },
  {
   "cell_type": "markdown",
   "id": "18ebc8b1",
   "metadata": {},
   "source": [
    "**6. LightGBM**\n",
    "- LightGBM is a gradient boosting framework that uses tree based learning algorithm.\n",
    "- LightGBM grows tree vertically while other tree based learning algorithms grow trees horizontally. It means that LightGBM \n",
    "grows tree leaf-wise while other algorithms grow level-wise"
   ]
  },
  {
   "cell_type": "code",
   "execution_count": 231,
   "id": "1bdb1b73",
   "metadata": {},
   "outputs": [
    {
     "data": {
      "text/plain": [
       "LGBMClassifier()"
      ]
     },
     "execution_count": 231,
     "metadata": {},
     "output_type": "execute_result"
    }
   ],
   "source": [
    "lgbm = lgb.LGBMClassifier()\n",
    "lgbm.fit(x_train, y_train)"
   ]
  },
  {
   "cell_type": "markdown",
   "id": "cbba6235",
   "metadata": {},
   "source": [
    "**Cross Validation**"
   ]
  },
  {
   "cell_type": "code",
   "execution_count": 232,
   "id": "0735e1b0",
   "metadata": {},
   "outputs": [
    {
     "name": "stdout",
     "output_type": "stream",
     "text": [
      "Mean accuracy of LightGBMClassifier model with 5-fold cross validation is 0.9758064516129034\n"
     ]
    }
   ],
   "source": [
    "acc_lgbm = cross_val_score(estimator = lgbm, X = x_train, y = y_train, cv = kfold, scoring=scoring)\n",
    "print('Mean accuracy of LightGBMClassifier model with 5-fold cross validation is',acc_lgbm.mean())"
   ]
  },
  {
   "cell_type": "markdown",
   "id": "7566911a",
   "metadata": {},
   "source": [
    "**Model Evaluation**"
   ]
  },
  {
   "cell_type": "code",
   "execution_count": 233,
   "id": "887dd0f7",
   "metadata": {},
   "outputs": [
    {
     "data": {
      "text/html": [
       "<div>\n",
       "<style scoped>\n",
       "    .dataframe tbody tr th:only-of-type {\n",
       "        vertical-align: middle;\n",
       "    }\n",
       "\n",
       "    .dataframe tbody tr th {\n",
       "        vertical-align: top;\n",
       "    }\n",
       "\n",
       "    .dataframe thead th {\n",
       "        text-align: right;\n",
       "    }\n",
       "</style>\n",
       "<table border=\"1\" class=\"dataframe\">\n",
       "  <thead>\n",
       "    <tr style=\"text-align: right;\">\n",
       "      <th></th>\n",
       "      <th>Model</th>\n",
       "      <th>Accuracy_test</th>\n",
       "      <th>Cross Val Accuracy</th>\n",
       "      <th>Precision_test</th>\n",
       "      <th>Recall_test</th>\n",
       "      <th>F1_Score_test</th>\n",
       "      <th>AUC</th>\n",
       "    </tr>\n",
       "  </thead>\n",
       "  <tbody>\n",
       "    <tr>\n",
       "      <th>0</th>\n",
       "      <td>Logistic Regression</td>\n",
       "      <td>0.974359</td>\n",
       "      <td>0.950000</td>\n",
       "      <td>0.966667</td>\n",
       "      <td>0.966667</td>\n",
       "      <td>0.966667</td>\n",
       "      <td>0.989583</td>\n",
       "    </tr>\n",
       "    <tr>\n",
       "      <th>1</th>\n",
       "      <td>Random forest</td>\n",
       "      <td>0.980769</td>\n",
       "      <td>0.975806</td>\n",
       "      <td>0.952381</td>\n",
       "      <td>1.000000</td>\n",
       "      <td>0.975610</td>\n",
       "      <td>0.984375</td>\n",
       "    </tr>\n",
       "    <tr>\n",
       "      <th>2</th>\n",
       "      <td>KNN</td>\n",
       "      <td>0.955128</td>\n",
       "      <td>0.935484</td>\n",
       "      <td>0.964912</td>\n",
       "      <td>0.916667</td>\n",
       "      <td>0.940171</td>\n",
       "      <td>0.947917</td>\n",
       "    </tr>\n",
       "    <tr>\n",
       "      <th>3</th>\n",
       "      <td>SVM</td>\n",
       "      <td>0.980769</td>\n",
       "      <td>0.961290</td>\n",
       "      <td>0.983051</td>\n",
       "      <td>0.966667</td>\n",
       "      <td>0.974790</td>\n",
       "      <td>0.978125</td>\n",
       "    </tr>\n",
       "    <tr>\n",
       "      <th>4</th>\n",
       "      <td>AdaBoost</td>\n",
       "      <td>0.974359</td>\n",
       "      <td>0.974194</td>\n",
       "      <td>0.937500</td>\n",
       "      <td>1.000000</td>\n",
       "      <td>0.967742</td>\n",
       "      <td>0.979167</td>\n",
       "    </tr>\n",
       "    <tr>\n",
       "      <th>5</th>\n",
       "      <td>LightGBM</td>\n",
       "      <td>0.980769</td>\n",
       "      <td>0.975806</td>\n",
       "      <td>0.952381</td>\n",
       "      <td>1.000000</td>\n",
       "      <td>0.975610</td>\n",
       "      <td>0.984375</td>\n",
       "    </tr>\n",
       "  </tbody>\n",
       "</table>\n",
       "</div>"
      ],
      "text/plain": [
       "                 Model  Accuracy_test  Cross Val Accuracy  Precision_test  \\\n",
       "0  Logistic Regression       0.974359            0.950000        0.966667   \n",
       "1        Random forest       0.980769            0.975806        0.952381   \n",
       "2                  KNN       0.955128            0.935484        0.964912   \n",
       "3                  SVM       0.980769            0.961290        0.983051   \n",
       "4             AdaBoost       0.974359            0.974194        0.937500   \n",
       "5             LightGBM       0.980769            0.975806        0.952381   \n",
       "\n",
       "   Recall_test  F1_Score_test       AUC  \n",
       "0     0.966667       0.966667  0.989583  \n",
       "1     1.000000       0.975610  0.984375  \n",
       "2     0.916667       0.940171  0.947917  \n",
       "3     0.966667       0.974790  0.978125  \n",
       "4     1.000000       0.967742  0.979167  \n",
       "5     1.000000       0.975610  0.984375  "
      ]
     },
     "execution_count": 233,
     "metadata": {},
     "output_type": "execute_result"
    }
   ],
   "source": [
    "predict_test_lgbm = lgbm.predict(x_test)\n",
    "predict_train_lgbm = lgbm.predict(x_train)\n",
    "\n",
    "acc_test_lgbm = accuracy_score(y_test, predict_test_lgbm)\n",
    "acc_train_lgbm = accuracy_score(y_train, predict_train_lgbm)\n",
    "\n",
    "auc_lgbm = roc_auc_score(y_test, predict_test_lgbm)\n",
    "\n",
    "precision_test_lgbm = precision_score(y_test, predict_test_lgbm)\n",
    "precision_train_lgbm = precision_score(y_train, predict_train_lgbm)\n",
    "\n",
    "recall_test_lgbm = recall_score(y_test, predict_test_lgbm)\n",
    "recall_train_lgbm = recall_score(y_train, predict_train_lgbm)\n",
    "\n",
    "f1_test_lgbm = f1_score(y_test, predict_test_lgbm)\n",
    "f1_train_lgbm = f1_score(y_train, predict_train_lgbm)\n",
    "\n",
    "model_results = pd.DataFrame([['LightGBM',acc_test_lgbm, acc_lgbm.mean(),precision_test_lgbm ,recall_test_lgbm, f1_test_lgbm, auc_lgbm]],\n",
    "               columns = ['Model', 'Accuracy_test','Cross Val Accuracy', 'Precision_test', 'Recall_test', 'F1_Score_test','AUC'])\n",
    "\n",
    "results_test = results_test.append(model_results, ignore_index = True)\n",
    "results_test"
   ]
  },
  {
   "cell_type": "markdown",
   "id": "8682b9b6",
   "metadata": {},
   "source": [
    "**7. GradientBoostingClassifier**\n",
    "- is a functional gradient algorithm that repeatedly selects a function that leads in the direction of a weak hypothesis or negative gradient so that it can minimize a loss function. Gradient boosting classifier combines several weak learning models to produce a powerful predicting model."
   ]
  },
  {
   "cell_type": "code",
   "execution_count": 234,
   "id": "b39e0e01",
   "metadata": {},
   "outputs": [
    {
     "data": {
      "text/plain": [
       "GradientBoostingClassifier()"
      ]
     },
     "execution_count": 234,
     "metadata": {},
     "output_type": "execute_result"
    }
   ],
   "source": [
    "xgb = GradientBoostingClassifier()\n",
    "xgb.fit(x_train, y_train)"
   ]
  },
  {
   "cell_type": "markdown",
   "id": "9649c368",
   "metadata": {},
   "source": [
    "**Cross Validation**"
   ]
  },
  {
   "cell_type": "code",
   "execution_count": 235,
   "id": "30b21d03",
   "metadata": {},
   "outputs": [
    {
     "name": "stdout",
     "output_type": "stream",
     "text": [
      "Mean accuracy of GradientBoosting model with 5-fold cross validation is 0.9774193548387096\n"
     ]
    }
   ],
   "source": [
    "acc_xgb = cross_val_score(estimator = xgb, X = x_train, y = y_train, cv = kfold, scoring=scoring)\n",
    "print('Mean accuracy of GradientBoosting model with 5-fold cross validation is',acc_xgb.mean())"
   ]
  },
  {
   "cell_type": "markdown",
   "id": "9f3643af",
   "metadata": {},
   "source": [
    "**Model Evaluation**"
   ]
  },
  {
   "cell_type": "code",
   "execution_count": 236,
   "id": "e9373349",
   "metadata": {},
   "outputs": [
    {
     "data": {
      "text/html": [
       "<div>\n",
       "<style scoped>\n",
       "    .dataframe tbody tr th:only-of-type {\n",
       "        vertical-align: middle;\n",
       "    }\n",
       "\n",
       "    .dataframe tbody tr th {\n",
       "        vertical-align: top;\n",
       "    }\n",
       "\n",
       "    .dataframe thead th {\n",
       "        text-align: right;\n",
       "    }\n",
       "</style>\n",
       "<table border=\"1\" class=\"dataframe\">\n",
       "  <thead>\n",
       "    <tr style=\"text-align: right;\">\n",
       "      <th></th>\n",
       "      <th>Model</th>\n",
       "      <th>Accuracy_test</th>\n",
       "      <th>Cross Val Accuracy</th>\n",
       "      <th>Precision_test</th>\n",
       "      <th>Recall_test</th>\n",
       "      <th>F1_Score_test</th>\n",
       "      <th>AUC</th>\n",
       "    </tr>\n",
       "  </thead>\n",
       "  <tbody>\n",
       "    <tr>\n",
       "      <th>0</th>\n",
       "      <td>Logistic Regression</td>\n",
       "      <td>0.974359</td>\n",
       "      <td>0.950000</td>\n",
       "      <td>0.966667</td>\n",
       "      <td>0.966667</td>\n",
       "      <td>0.966667</td>\n",
       "      <td>0.989583</td>\n",
       "    </tr>\n",
       "    <tr>\n",
       "      <th>1</th>\n",
       "      <td>Random forest</td>\n",
       "      <td>0.980769</td>\n",
       "      <td>0.975806</td>\n",
       "      <td>0.952381</td>\n",
       "      <td>1.000000</td>\n",
       "      <td>0.975610</td>\n",
       "      <td>0.984375</td>\n",
       "    </tr>\n",
       "    <tr>\n",
       "      <th>2</th>\n",
       "      <td>KNN</td>\n",
       "      <td>0.955128</td>\n",
       "      <td>0.935484</td>\n",
       "      <td>0.964912</td>\n",
       "      <td>0.916667</td>\n",
       "      <td>0.940171</td>\n",
       "      <td>0.947917</td>\n",
       "    </tr>\n",
       "    <tr>\n",
       "      <th>3</th>\n",
       "      <td>SVM</td>\n",
       "      <td>0.980769</td>\n",
       "      <td>0.961290</td>\n",
       "      <td>0.983051</td>\n",
       "      <td>0.966667</td>\n",
       "      <td>0.974790</td>\n",
       "      <td>0.978125</td>\n",
       "    </tr>\n",
       "    <tr>\n",
       "      <th>4</th>\n",
       "      <td>AdaBoost</td>\n",
       "      <td>0.974359</td>\n",
       "      <td>0.974194</td>\n",
       "      <td>0.937500</td>\n",
       "      <td>1.000000</td>\n",
       "      <td>0.967742</td>\n",
       "      <td>0.979167</td>\n",
       "    </tr>\n",
       "    <tr>\n",
       "      <th>5</th>\n",
       "      <td>LightGBM</td>\n",
       "      <td>0.980769</td>\n",
       "      <td>0.975806</td>\n",
       "      <td>0.952381</td>\n",
       "      <td>1.000000</td>\n",
       "      <td>0.975610</td>\n",
       "      <td>0.984375</td>\n",
       "    </tr>\n",
       "    <tr>\n",
       "      <th>6</th>\n",
       "      <td>GradientBoosting</td>\n",
       "      <td>0.987179</td>\n",
       "      <td>0.977419</td>\n",
       "      <td>0.967742</td>\n",
       "      <td>1.000000</td>\n",
       "      <td>0.983607</td>\n",
       "      <td>0.989583</td>\n",
       "    </tr>\n",
       "  </tbody>\n",
       "</table>\n",
       "</div>"
      ],
      "text/plain": [
       "                 Model  Accuracy_test  Cross Val Accuracy  Precision_test  \\\n",
       "0  Logistic Regression       0.974359            0.950000        0.966667   \n",
       "1        Random forest       0.980769            0.975806        0.952381   \n",
       "2                  KNN       0.955128            0.935484        0.964912   \n",
       "3                  SVM       0.980769            0.961290        0.983051   \n",
       "4             AdaBoost       0.974359            0.974194        0.937500   \n",
       "5             LightGBM       0.980769            0.975806        0.952381   \n",
       "6     GradientBoosting       0.987179            0.977419        0.967742   \n",
       "\n",
       "   Recall_test  F1_Score_test       AUC  \n",
       "0     0.966667       0.966667  0.989583  \n",
       "1     1.000000       0.975610  0.984375  \n",
       "2     0.916667       0.940171  0.947917  \n",
       "3     0.966667       0.974790  0.978125  \n",
       "4     1.000000       0.967742  0.979167  \n",
       "5     1.000000       0.975610  0.984375  \n",
       "6     1.000000       0.983607  0.989583  "
      ]
     },
     "execution_count": 236,
     "metadata": {},
     "output_type": "execute_result"
    }
   ],
   "source": [
    "predict_test_xgb = xgb.predict(x_test)\n",
    "predict_train_xgb = xgb.predict(x_train)\n",
    "\n",
    "acc_test_xgb = accuracy_score(y_test, predict_test_xgb)\n",
    "acc_train_xgb = accuracy_score(y_train, predict_train_xgb)\n",
    "\n",
    "auc_xgb = roc_auc_score(y_test, predict_test_xgb)\n",
    "\n",
    "precision_test_xgb= precision_score(y_test, predict_test_xgb)\n",
    "precision_train_xgb = precision_score(y_train, predict_train_xgb)\n",
    "\n",
    "recall_test_xgb = recall_score(y_test, predict_test_xgb)\n",
    "recall_train_xgb = recall_score(y_train, predict_train_xgb)\n",
    "\n",
    "f1_test_xgb = f1_score(y_test, predict_test_xgb)\n",
    "f1_train_xgb = f1_score(y_train, predict_train_xgb)\n",
    "\n",
    "model_results = pd.DataFrame([['GradientBoosting',acc_test_xgb, acc_xgb.mean(),precision_test_xgb ,recall_test_xgb, f1_test_xgb, auc_xgb]],\n",
    "               columns = ['Model', 'Accuracy_test','Cross Val Accuracy', 'Precision_test', 'Recall_test', 'F1_Score_test','AUC'])\n",
    "\n",
    "results_test = results_test.append(model_results, ignore_index = True)\n",
    "results_test"
   ]
  },
  {
   "cell_type": "markdown",
   "id": "1b1f8188",
   "metadata": {},
   "source": [
    "Result:\n",
    "1. As we can see from the table all of the models perfoms good but if we wnat to compare them GradientBoosting model has highest accuracy : 0.987179\n",
    "2. GradientBoosting has also highest cross validation which shoew that how great our model is trained.\n",
    "3. AUC which is Area Under the ROC Curve for the GradientBoosting is the highest.As we know the higher AUC the better the classifier performs. "
   ]
  },
  {
   "cell_type": "markdown",
   "id": "41e81f1f",
   "metadata": {},
   "source": [
    "**ROC_CURVE**\n",
    "- Plot the ROC curve"
   ]
  },
  {
   "cell_type": "code",
   "execution_count": 237,
   "id": "e266c9d0",
   "metadata": {},
   "outputs": [
    {
     "data": {
      "image/png": "[encoded data removed]",
      "text/plain": [
       "<Figure size 432x288 with 1 Axes>"
      ]
     },
     "metadata": {
      "needs_background": "light"
     },
     "output_type": "display_data"
    }
   ],
   "source": [
    "plt.figure()\n",
    "\n",
    "# Add the models to the list that you want to view on the ROC plot\n",
    "models = [\n",
    "{\n",
    "    'label': 'Logistic Regression',\n",
    "    'model': LogisticRegression(random_state = 42),\n",
    "},\n",
    "    {\n",
    "    'label': 'Random Forest Entropy',\n",
    "    'model': RandomForestClassifier(n_estimators = 100,criterion='entropy', random_state = 42),\n",
    "},\n",
    "    {\n",
    "    'label': 'KNN',\n",
    "    'model': KNeighborsClassifier(n_neighbors=5),\n",
    "},\n",
    "\n",
    "    {\n",
    "    'label': 'AdaBoost',\n",
    "    'model': AdaBoostClassifier(n_estimators = 100),\n",
    "},\n",
    "    {\n",
    "    'label': 'LightGBM',\n",
    "    'model': lgb.LGBMClassifier(),\n",
    "},\n",
    "    {\n",
    "    'label': 'GradientBoosting',\n",
    "    'model': GradientBoostingClassifier(),\n",
    "},\n",
    "    \n",
    "]\n",
    "\n",
    "# Below for loop iterates through your models list\n",
    "for m in models:\n",
    "    model = m['model'] # select the model\n",
    "    model.fit(x_train, y_train) # train the model\n",
    "    y_pred=model.predict(x_test) # predict the test data\n",
    "# Compute False postive rate, and True positive rate\n",
    "    fpr, tpr, thresholds = roc_curve(y_test, model.predict_proba(x_test)[:,1])\n",
    "# Calculate Area under the curve to display on the plot\n",
    "    auc = roc_auc_score(y_test,model.predict(x_test))\n",
    "# Now, plot the computed values\n",
    "    plt.plot(fpr, tpr, label='%s ROC (area = %0.2f)' % (m['label'], auc))\n",
    "# Custom settings for the plot \n",
    "plt.plot([0, 1], [0, 1],'r--')\n",
    "plt.xlim([0.0, 1.0])\n",
    "plt.ylim([0.0, 1.05])\n",
    "plt.xlabel('1-Specificity(False Positive Rate)')\n",
    "plt.ylabel('Sensitivity(True Positive Rate)')\n",
    "plt.title('Receiver Operating Characteristic')\n",
    "plt.legend(loc=\"lower right\")\n",
    "plt.show()"
   ]
  },
  {
   "cell_type": "code",
   "execution_count": 238,
   "id": "30d86fd8",
   "metadata": {},
   "outputs": [],
   "source": [
    "# As we see the area under GradientBoosting method is higher than the other machine learning methods"
   ]
  },
  {
   "cell_type": "markdown",
   "id": "16a2a5cf",
   "metadata": {},
   "source": [
    "## Hyperparameter Tunning"
   ]
  },
  {
   "cell_type": "markdown",
   "id": "0cefb57c",
   "metadata": {},
   "source": [
    "- Hyperprameter tuning is the process of optimizing the performance of a machine learning model by finding the best values for the model’s hyperparameters.\n",
    "- Hyperparameters are parameters that are not directly learned by the model during training; instead, they are set by the programmer before training begins\n",
    "- we use Optuna library to do hyperparameter tuning\n",
    "- we applied hyperparameter tunning on the GradientBoosting model which performs betetr than other models on our data"
   ]
  },
  {
   "cell_type": "code",
   "execution_count": 239,
   "id": "3c27c82c",
   "metadata": {},
   "outputs": [],
   "source": [
    "# Tunning Parameter\n",
    "def tune(objective):\n",
    "    study = optuna.create_study(direction=\"maximize\")\n",
    "    study.optimize(objective, n_trials=15)\n",
    "\n",
    "    params = study.best_params\n",
    "    best_score = study.best_value\n",
    "    print(f\"Best score: {best_score}\\n\")\n",
    "    print(f\"Optimized parameters: {params}\\n\")\n",
    "    return params"
   ]
  },
  {
   "cell_type": "markdown",
   "id": "ea4589e7",
   "metadata": {},
   "source": [
    "- n_estimators : The number of boosting stages to perform\n",
    "- max_depth : The maximum depth of the individual regression estimators\n",
    "- learning_rate : Learning rate shrinks the contribution of each tree by learning_rate. There is a trade-off between learning_rate and n_estimators."
   ]
  },
  {
   "cell_type": "code",
   "execution_count": 240,
   "id": "12018f31",
   "metadata": {},
   "outputs": [],
   "source": [
    "def XGBoost_objective(trial):\n",
    "    _n_estimators = trial.suggest_categorical(\"n_estimators\", [5,50,150,500])\n",
    "    _max_depth = trial.suggest_int(\"max_depth\", 1, 19, step=3)\n",
    "    _learning_rate = trial.suggest_float(\"learning_rate\", 0.1, 0.31, step=0.1)\n",
    "\n",
    "   \n",
    "    xgb = GradientBoostingClassifier(\n",
    "        n_estimators=_n_estimators,\n",
    "        max_depth=_max_depth,\n",
    "        learning_rate=_learning_rate,\n",
    "        random_state=42,\n",
    "    )\n",
    "    \n",
    "    scores = cross_val_score(\n",
    "        estimator = xgb, X = x_train, y = y_train, cv = kfold, scoring=scoring\n",
    "    )\n",
    "    return scores.mean()"
   ]
  },
  {
   "cell_type": "code",
   "execution_count": 241,
   "id": "3845a7ca",
   "metadata": {},
   "outputs": [
    {
     "name": "stderr",
     "output_type": "stream",
     "text": [
      "\u001b[32m[I 2022-11-28 01:35:06,887]\u001b[0m A new study created in memory with name: no-name-0095cf5d-d6da-4b12-a4b9-66e08c19cefe\u001b[0m\n",
      "\u001b[32m[I 2022-11-28 01:35:10,445]\u001b[0m Trial 0 finished with value: 0.9774193548387096 and parameters: {'n_estimators': 500, 'max_depth': 19, 'learning_rate': 0.1}. Best is trial 0 with value: 0.9774193548387096.\u001b[0m\n",
      "\u001b[32m[I 2022-11-28 01:35:11,615]\u001b[0m Trial 1 finished with value: 0.9774193548387096 and parameters: {'n_estimators': 150, 'max_depth': 13, 'learning_rate': 0.2}. Best is trial 0 with value: 0.9774193548387096.\u001b[0m\n",
      "\u001b[32m[I 2022-11-28 01:35:11,692]\u001b[0m Trial 2 finished with value: 0.9741935483870968 and parameters: {'n_estimators': 5, 'max_depth': 7, 'learning_rate': 0.2}. Best is trial 0 with value: 0.9774193548387096.\u001b[0m\n",
      "\u001b[32m[I 2022-11-28 01:35:11,745]\u001b[0m Trial 3 finished with value: 0.9774193548387096 and parameters: {'n_estimators': 5, 'max_depth': 13, 'learning_rate': 0.3}. Best is trial 0 with value: 0.9774193548387096.\u001b[0m\n",
      "\u001b[32m[I 2022-11-28 01:35:11,775]\u001b[0m Trial 4 finished with value: 0.9193548387096774 and parameters: {'n_estimators': 5, 'max_depth': 1, 'learning_rate': 0.2}. Best is trial 0 with value: 0.9774193548387096.\u001b[0m\n",
      "\u001b[32m[I 2022-11-28 01:35:15,005]\u001b[0m Trial 5 finished with value: 0.9774193548387096 and parameters: {'n_estimators': 500, 'max_depth': 19, 'learning_rate': 0.2}. Best is trial 0 with value: 0.9774193548387096.\u001b[0m\n",
      "\u001b[32m[I 2022-11-28 01:35:15,403]\u001b[0m Trial 6 finished with value: 0.9822580645161292 and parameters: {'n_estimators': 50, 'max_depth': 7, 'learning_rate': 0.1}. Best is trial 6 with value: 0.9822580645161292.\u001b[0m\n",
      "\u001b[32m[I 2022-11-28 01:35:16,504]\u001b[0m Trial 7 finished with value: 0.979032258064516 and parameters: {'n_estimators': 150, 'max_depth': 7, 'learning_rate': 0.2}. Best is trial 6 with value: 0.9822580645161292.\u001b[0m\n",
      "\u001b[32m[I 2022-11-28 01:35:17,338]\u001b[0m Trial 8 finished with value: 0.9790322580645162 and parameters: {'n_estimators': 150, 'max_depth': 4, 'learning_rate': 0.1}. Best is trial 6 with value: 0.9822580645161292.\u001b[0m\n",
      "\u001b[32m[I 2022-11-28 01:35:18,340]\u001b[0m Trial 9 finished with value: 0.9806451612903226 and parameters: {'n_estimators': 500, 'max_depth': 1, 'learning_rate': 0.3}. Best is trial 6 with value: 0.9822580645161292.\u001b[0m\n",
      "\u001b[32m[I 2022-11-28 01:35:18,761]\u001b[0m Trial 10 finished with value: 0.979032258064516 and parameters: {'n_estimators': 50, 'max_depth': 10, 'learning_rate': 0.1}. Best is trial 6 with value: 0.9822580645161292.\u001b[0m\n",
      "\u001b[32m[I 2022-11-28 01:35:18,895]\u001b[0m Trial 11 finished with value: 0.9741935483870968 and parameters: {'n_estimators': 50, 'max_depth': 1, 'learning_rate': 0.3}. Best is trial 6 with value: 0.9822580645161292.\u001b[0m\n",
      "\u001b[32m[I 2022-11-28 01:35:21,337]\u001b[0m Trial 12 finished with value: 0.979032258064516 and parameters: {'n_estimators': 500, 'max_depth': 4, 'learning_rate': 0.3}. Best is trial 6 with value: 0.9822580645161292.\u001b[0m\n",
      "\u001b[32m[I 2022-11-28 01:35:21,720]\u001b[0m Trial 13 finished with value: 0.9806451612903226 and parameters: {'n_estimators': 50, 'max_depth': 4, 'learning_rate': 0.1}. Best is trial 6 with value: 0.9822580645161292.\u001b[0m\n",
      "\u001b[32m[I 2022-11-28 01:35:22,113]\u001b[0m Trial 14 finished with value: 0.9806451612903226 and parameters: {'n_estimators': 50, 'max_depth': 10, 'learning_rate': 0.3}. Best is trial 6 with value: 0.9822580645161292.\u001b[0m\n"
     ]
    },
    {
     "name": "stdout",
     "output_type": "stream",
     "text": [
      "Best score: 0.9822580645161292\n",
      "\n",
      "Optimized parameters: {'n_estimators': 50, 'max_depth': 7, 'learning_rate': 0.1}\n",
      "\n"
     ]
    }
   ],
   "source": [
    "XGBoost_params = tune(XGBoost_objective)"
   ]
  },
  {
   "cell_type": "code",
   "execution_count": 242,
   "id": "32ce89d8",
   "metadata": {},
   "outputs": [],
   "source": [
    "# we have achieved teh best accuracy = 0.9806451612903228 by these optimized parameters\n",
    "# Optimized parameters: {'n_estimators': 50, 'max_depth': 7, 'learning_rate': 0.2}"
   ]
  },
  {
   "cell_type": "code",
   "execution_count": 243,
   "id": "b0d91686",
   "metadata": {},
   "outputs": [
    {
     "data": {
      "text/plain": [
       "GradientBoostingClassifier(learning_rate=0.2, max_depth=7, n_estimators=50,\n",
       "                           random_state=42)"
      ]
     },
     "execution_count": 243,
     "metadata": {},
     "output_type": "execute_result"
    }
   ],
   "source": [
    "xgb_tune = GradientBoostingClassifier(n_estimators=50, max_depth=7, learning_rate=0.2, random_state =42)\n",
    "xgb_tune.fit(x_train, y_train)"
   ]
  },
  {
   "cell_type": "code",
   "execution_count": 244,
   "id": "03565406",
   "metadata": {},
   "outputs": [
    {
     "name": "stdout",
     "output_type": "stream",
     "text": [
      "Mean accuracy of GradientBoosting model with 5-fold cross validation is 0.9806451612903228\n"
     ]
    }
   ],
   "source": [
    "#Cross Validation\n",
    "acc_xgb_tune = cross_val_score(estimator = xgb_tune, X = x_train, y = y_train, cv = kfold, scoring=scoring)\n",
    "print('Mean accuracy of GradientBoosting model with 5-fold cross validation is',acc_xgb_tune.mean())"
   ]
  },
  {
   "cell_type": "code",
   "execution_count": 245,
   "id": "2be7b494",
   "metadata": {},
   "outputs": [
    {
     "data": {
      "text/html": [
       "<div>\n",
       "<style scoped>\n",
       "    .dataframe tbody tr th:only-of-type {\n",
       "        vertical-align: middle;\n",
       "    }\n",
       "\n",
       "    .dataframe tbody tr th {\n",
       "        vertical-align: top;\n",
       "    }\n",
       "\n",
       "    .dataframe thead th {\n",
       "        text-align: right;\n",
       "    }\n",
       "</style>\n",
       "<table border=\"1\" class=\"dataframe\">\n",
       "  <thead>\n",
       "    <tr style=\"text-align: right;\">\n",
       "      <th></th>\n",
       "      <th>Model</th>\n",
       "      <th>Accuracy_test</th>\n",
       "      <th>Cross Val Accuracy</th>\n",
       "      <th>Precision_test</th>\n",
       "      <th>Recall_test</th>\n",
       "      <th>F1_Score_test</th>\n",
       "      <th>AUC</th>\n",
       "    </tr>\n",
       "  </thead>\n",
       "  <tbody>\n",
       "    <tr>\n",
       "      <th>0</th>\n",
       "      <td>Logistic Regression</td>\n",
       "      <td>0.974359</td>\n",
       "      <td>0.950000</td>\n",
       "      <td>0.966667</td>\n",
       "      <td>0.966667</td>\n",
       "      <td>0.966667</td>\n",
       "      <td>0.989583</td>\n",
       "    </tr>\n",
       "    <tr>\n",
       "      <th>1</th>\n",
       "      <td>Random forest</td>\n",
       "      <td>0.980769</td>\n",
       "      <td>0.975806</td>\n",
       "      <td>0.952381</td>\n",
       "      <td>1.000000</td>\n",
       "      <td>0.975610</td>\n",
       "      <td>0.984375</td>\n",
       "    </tr>\n",
       "    <tr>\n",
       "      <th>2</th>\n",
       "      <td>KNN</td>\n",
       "      <td>0.955128</td>\n",
       "      <td>0.935484</td>\n",
       "      <td>0.964912</td>\n",
       "      <td>0.916667</td>\n",
       "      <td>0.940171</td>\n",
       "      <td>0.947917</td>\n",
       "    </tr>\n",
       "    <tr>\n",
       "      <th>3</th>\n",
       "      <td>SVM</td>\n",
       "      <td>0.980769</td>\n",
       "      <td>0.961290</td>\n",
       "      <td>0.983051</td>\n",
       "      <td>0.966667</td>\n",
       "      <td>0.974790</td>\n",
       "      <td>0.978125</td>\n",
       "    </tr>\n",
       "    <tr>\n",
       "      <th>4</th>\n",
       "      <td>AdaBoost</td>\n",
       "      <td>0.974359</td>\n",
       "      <td>0.974194</td>\n",
       "      <td>0.937500</td>\n",
       "      <td>1.000000</td>\n",
       "      <td>0.967742</td>\n",
       "      <td>0.979167</td>\n",
       "    </tr>\n",
       "    <tr>\n",
       "      <th>5</th>\n",
       "      <td>LightGBM</td>\n",
       "      <td>0.980769</td>\n",
       "      <td>0.975806</td>\n",
       "      <td>0.952381</td>\n",
       "      <td>1.000000</td>\n",
       "      <td>0.975610</td>\n",
       "      <td>0.984375</td>\n",
       "    </tr>\n",
       "    <tr>\n",
       "      <th>6</th>\n",
       "      <td>GradientBoosting</td>\n",
       "      <td>0.987179</td>\n",
       "      <td>0.977419</td>\n",
       "      <td>0.967742</td>\n",
       "      <td>1.000000</td>\n",
       "      <td>0.983607</td>\n",
       "      <td>0.989583</td>\n",
       "    </tr>\n",
       "    <tr>\n",
       "      <th>7</th>\n",
       "      <td>Hyperparam_Tunning_GBoost</td>\n",
       "      <td>0.987179</td>\n",
       "      <td>0.980645</td>\n",
       "      <td>0.967742</td>\n",
       "      <td>1.000000</td>\n",
       "      <td>0.983607</td>\n",
       "      <td>0.989583</td>\n",
       "    </tr>\n",
       "  </tbody>\n",
       "</table>\n",
       "</div>"
      ],
      "text/plain": [
       "                       Model  Accuracy_test  Cross Val Accuracy  \\\n",
       "0        Logistic Regression       0.974359            0.950000   \n",
       "1              Random forest       0.980769            0.975806   \n",
       "2                        KNN       0.955128            0.935484   \n",
       "3                        SVM       0.980769            0.961290   \n",
       "4                   AdaBoost       0.974359            0.974194   \n",
       "5                   LightGBM       0.980769            0.975806   \n",
       "6           GradientBoosting       0.987179            0.977419   \n",
       "7  Hyperparam_Tunning_GBoost       0.987179            0.980645   \n",
       "\n",
       "   Precision_test  Recall_test  F1_Score_test       AUC  \n",
       "0        0.966667     0.966667       0.966667  0.989583  \n",
       "1        0.952381     1.000000       0.975610  0.984375  \n",
       "2        0.964912     0.916667       0.940171  0.947917  \n",
       "3        0.983051     0.966667       0.974790  0.978125  \n",
       "4        0.937500     1.000000       0.967742  0.979167  \n",
       "5        0.952381     1.000000       0.975610  0.984375  \n",
       "6        0.967742     1.000000       0.983607  0.989583  \n",
       "7        0.967742     1.000000       0.983607  0.989583  "
      ]
     },
     "execution_count": 245,
     "metadata": {},
     "output_type": "execute_result"
    }
   ],
   "source": [
    "predict_test_xgb_tune = xgb.predict(x_test)\n",
    "\n",
    "acc_test_xgb_tune = accuracy_score(y_test, predict_test_xgb_tune)\n",
    "auc_xgb_tune = roc_auc_score(y_test, predict_test_xgb_tune)\n",
    "precision_test_xgb_tune= precision_score(y_test, predict_test_xgb_tune)\n",
    "recall_test_xgb_tune = recall_score(y_test, predict_test_xgb_tune)\n",
    "f1_test_xgb_tune = f1_score(y_test, predict_test_xgb_tune)\n",
    "\n",
    "model_results = pd.DataFrame([['Hyperparam_Tunning_GBoost',acc_test_xgb_tune, acc_xgb_tune.mean(),precision_test_xgb_tune ,recall_test_xgb_tune, f1_test_xgb_tune, auc_xgb_tune]],\n",
    "               columns = ['Model', 'Accuracy_test','Cross Val Accuracy', 'Precision_test', 'Recall_test', 'F1_Score_test','AUC'])\n",
    "\n",
    "results_test = results_test.append(model_results, ignore_index = True)\n",
    "results_test"
   ]
  },
  {
   "cell_type": "markdown",
   "id": "b51f4c3d",
   "metadata": {},
   "source": [
    "**Result**\n",
    "- As we can see by applying hyperparameter tunning our model the cross_validation_accurace gets higher could train the data better. but we got almost the same result performance metric as the model without applying hyperparameter tunning.\n",
    "- I only consider 3 hyperparameters, but we can also consider other parameter and in that case maybe we could reach higher performance metrics."
   ]
  }
 ],
 "metadata": {
  "kernelspec": {
   "display_name": "Python 3 (ipykernel)",
   "language": "python",
   "name": "python3"
  },
  "language_info": {
   "codemirror_mode": {
    "name": "ipython",
    "version": 3
   },
   "file_extension": ".py",
   "mimetype": "text/x-python",
   "name": "python",
   "nbconvert_exporter": "python",
   "pygments_lexer": "ipython3",
   "version": "3.9.7"
  }
 },
 "nbformat": 4,
 "nbformat_minor": 5
}
